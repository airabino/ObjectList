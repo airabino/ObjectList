{
 "cells": [
  {
   "cell_type": "code",
   "execution_count": 1,
   "id": "66c179d1-02e9-4b41-8103-13705317c9cd",
   "metadata": {},
   "outputs": [],
   "source": [
    "#Loading the ObjectList class\n",
    "from ObjectList import ObjectList"
   ]
  },
  {
   "cell_type": "code",
   "execution_count": 2,
   "id": "e66d2624-dc83-4a60-8198-d0ce06dac44c",
   "metadata": {},
   "outputs": [],
   "source": [
    "#Creating a generic class\n",
    "class foo():\n",
    "    def __init__(self,bar,inv_bar):\n",
    "        self.bar=bar\n",
    "        self.inv_bar=inv_bar"
   ]
  },
  {
   "cell_type": "code",
   "execution_count": 3,
   "id": "844dd07d-5632-4715-b75b-82c8e702551e",
   "metadata": {},
   "outputs": [],
   "source": [
    "#Populating a list with objects of the class defined above\n",
    "foo_list=[None]*10\n",
    "for i in range(10):\n",
    "    foo_list[i]=foo(i+1,1/(i+1))"
   ]
  },
  {
   "cell_type": "code",
   "execution_count": 4,
   "id": "10cd30f4-e7ea-483c-a708-c4cc53315840",
   "metadata": {},
   "outputs": [],
   "source": [
    "#Creating an ObjectList from list of objects\n",
    "foo_ObjectList=ObjectList(foo_list)"
   ]
  },
  {
   "cell_type": "code",
   "execution_count": 5,
   "id": "18bdf6c3-17c9-4b97-ba0e-507eaf5ede45",
   "metadata": {},
   "outputs": [
    {
     "name": "stdout",
     "output_type": "stream",
     "text": [
      "ObjectList [<__main__.foo object at 0x7f65f045cb80>, <__main__.foo object at 0x7f65f045cc70>, <__main__.foo object at 0x7f65f045cd30>, <__main__.foo object at 0x7f65f045c850>, <__main__.foo object at 0x7f65f045cd90>, <__main__.foo object at 0x7f65f045cdf0>, <__main__.foo object at 0x7f65f045cdc0>, <__main__.foo object at 0x7f65f045ce50>, <__main__.foo object at 0x7f65f045cb50>, <__main__.foo object at 0x7f65f045cc40>]\n"
     ]
    }
   ],
   "source": [
    "#ObjectList prints like lists\n",
    "print(foo_ObjectList)"
   ]
  },
  {
   "cell_type": "code",
   "execution_count": 6,
   "id": "d7f84351-2b0e-4d61-a542-7ba8997b14a3",
   "metadata": {},
   "outputs": [
    {
     "name": "stdout",
     "output_type": "stream",
     "text": [
      "<__main__.foo object at 0x7f65f045cc70>\n"
     ]
    }
   ],
   "source": [
    "#Get a single index from the ObjectList - returns that object\n",
    "print(foo_ObjectList[1])"
   ]
  },
  {
   "cell_type": "code",
   "execution_count": 7,
   "id": "1f98e2cc-3bf1-40d9-be31-50ce7a29347a",
   "metadata": {},
   "outputs": [
    {
     "name": "stdout",
     "output_type": "stream",
     "text": [
      "ObjectList [<__main__.foo object at 0x7f65f045cc70>, <__main__.foo object at 0x7f65f045c850>, <__main__.foo object at 0x7f65f045cd90>]\n"
     ]
    }
   ],
   "source": [
    "#Get a tuple of indices from the ObjectList - returns an ObjectList\n",
    "print(foo_ObjectList[1,3,4])"
   ]
  },
  {
   "cell_type": "code",
   "execution_count": 8,
   "id": "e062aa59-8be0-4787-9549-89d530aed323",
   "metadata": {},
   "outputs": [
    {
     "name": "stdout",
     "output_type": "stream",
     "text": [
      "ObjectList [<__main__.foo object at 0x7f65f045cc70>, <__main__.foo object at 0x7f65f045cd30>, <__main__.foo object at 0x7f65f045c850>]\n"
     ]
    }
   ],
   "source": [
    "#Get a slice from the ObjectList - returns an ObjectList\n",
    "print(foo_ObjectList[1:4])"
   ]
  },
  {
   "cell_type": "code",
   "execution_count": 9,
   "id": "d7fa5781-82db-4ef0-b418-d06510dd3a9b",
   "metadata": {},
   "outputs": [
    {
     "name": "stdout",
     "output_type": "stream",
     "text": [
      "[1, 2, 3, 4, 5, 6, 7, 8, 9, 10]\n",
      "[1.0, 0.5, 0.3333333333333333, 0.25, 0.2, 0.16666666666666666, 0.14285714285714285, 0.125, 0.1111111111111111, 0.1]\n"
     ]
    }
   ],
   "source": [
    "#Pull values for a specified attribute from all objects in the ObjectList - returns a list\n",
    "print(foo_ObjectList.pull('bar'))\n",
    "print(foo_ObjectList.pull('inv_bar'))"
   ]
  },
  {
   "cell_type": "code",
   "execution_count": 10,
   "id": "809b16fb-b7bf-41cc-93c0-f9c65722f668",
   "metadata": {
    "tags": []
   },
   "outputs": [
    {
     "name": "stdout",
     "output_type": "stream",
     "text": [
      "[10, 9, 8, 7, 6, 5, 4, 3, 2, 1]\n",
      "[0.1, 0.1111111111111111, 0.125, 0.14285714285714285, 0.16666666666666666, 0.2, 0.25, 0.3333333333333333, 0.5, 1.0]\n"
     ]
    }
   ],
   "source": [
    "#Sort the ObjectList by a specified attribute - returns an ObjectList\n",
    "sorted_foo_ObjectList=foo_ObjectList.sort('inv_bar')\n",
    "print(sorted_foo_ObjectList.sort('inv_bar').pull('bar'))\n",
    "print(sorted_foo_ObjectList.sort('inv_bar').pull('inv_bar'))"
   ]
  },
  {
   "cell_type": "code",
   "execution_count": 11,
   "id": "1292a4fe-e2ea-4914-bb03-849fef92bff5",
   "metadata": {
    "tags": []
   },
   "outputs": [
    {
     "name": "stdout",
     "output_type": "stream",
     "text": [
      "[9, 8, 7, 6, 5, 4, 3, 2, 1, 0]\n"
     ]
    }
   ],
   "source": [
    "#argsort for the ObjectList by a specified attribute - returns a list\n",
    "print(foo_ObjectList.argsort('inv_bar'))"
   ]
  },
  {
   "cell_type": "code",
   "execution_count": 12,
   "id": "afb354ed-d0d0-4dea-b84d-638a3117d20d",
   "metadata": {
    "tags": []
   },
   "outputs": [
    {
     "name": "stdout",
     "output_type": "stream",
     "text": [
      "5.5\n",
      "2.8722813232690143\n",
      "5.5\n",
      "10\n",
      "1\n"
     ]
    }
   ],
   "source": [
    "#Get the mean, standard deviation, median, max, and min for a specified attribute - return values\n",
    "print(foo_ObjectList.mean('bar'))\n",
    "print(foo_ObjectList.std('bar'))\n",
    "print(foo_ObjectList.med('bar'))\n",
    "print(foo_ObjectList.max('bar'))\n",
    "print(foo_ObjectList.min('bar'))"
   ]
  },
  {
   "cell_type": "code",
   "execution_count": 13,
   "id": "c5284a67-1f47-4a93-887b-cfe9f4fbbfa3",
   "metadata": {},
   "outputs": [
    {
     "name": "stdout",
     "output_type": "stream",
     "text": [
      "9\n",
      "0\n"
     ]
    }
   ],
   "source": [
    "#Get argmax and argmin for a specified attribute - return int indices\n",
    "print(foo_ObjectList.argmax('bar'))\n",
    "print(foo_ObjectList.argmin('bar'))"
   ]
  }
 ],
 "metadata": {
  "kernelspec": {
   "display_name": "Python 3 (ipykernel)",
   "language": "python",
   "name": "python3"
  },
  "language_info": {
   "codemirror_mode": {
    "name": "ipython",
    "version": 3
   },
   "file_extension": ".py",
   "mimetype": "text/x-python",
   "name": "python",
   "nbconvert_exporter": "python",
   "pygments_lexer": "ipython3",
   "version": "3.8.12"
  }
 },
 "nbformat": 4,
 "nbformat_minor": 5
}
